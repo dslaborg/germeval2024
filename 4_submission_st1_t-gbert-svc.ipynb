{
 "cells": [
  {
   "cell_type": "code",
   "execution_count": null,
   "id": "0f4c7c2a-d9d7-4ce5-adcc-a950fdf3baf4",
   "metadata": {},
   "outputs": [],
   "source": [
    "import os\n",
    "\n",
    "os.environ[\"CUDA_VISIBLE_DEVICES\"]=\"0,1,2,3\"\n",
    "os.environ[\"TOKENIZERS_PARALLELISM\"] = \"false\"\n",
    "\n",
    "import warnings\n",
    "\n",
    "warnings.filterwarnings(\"ignore\")\n",
    "\n",
    "SEED = 42"
   ]
  },
  {
   "cell_type": "code",
   "execution_count": null,
   "id": "0d14c42d-777a-4d76-a1b8-8ebe07b2420f",
   "metadata": {},
   "outputs": [],
   "source": [
    "import torch\n",
    "import pickle\n",
    "import pandas as pd\n",
    "from tqdm import tqdm\n",
    "from sklearn.neural_network import MLPClassifier\n",
    "from sklearn.svm import LinearSVC, SVC\n",
    "from sklearn.model_selection import KFold, GridSearchCV\n",
    "from sklearn.metrics import f1_score\n",
    "from sklearn.ensemble import RandomForestClassifier\n",
    "from sentence_transformers import SentenceTransformer"
   ]
  },
  {
   "cell_type": "code",
   "execution_count": null,
   "id": "5cd0f2be-5a98-4524-bb5e-80074b3239de",
   "metadata": {},
   "outputs": [],
   "source": [
    "print(f\"pytorch version: {torch.__version__}\")\n",
    "print(f\"cuda available: {torch.cuda.is_available()}\")\n",
    "print(f\"devices count: {torch.cuda.device_count()}\")"
   ]
  },
  {
   "cell_type": "code",
   "execution_count": null,
   "id": "d8685475-7770-4fa0-8275-1f0462456ead",
   "metadata": {},
   "outputs": [],
   "source": [
    "def embedJsonLInputFile(model, path):\n",
    "    input = pd.read_json(path, lines=True).set_index('id')\n",
    "    e = pd.DataFrame(index=input.index, columns=['Embedding'])\n",
    "    for idx in tqdm(input.index):\n",
    "        sentence = input.loc[idx]['text']\n",
    "        e.loc[idx]['Embedding'] = model.encode(sentence)\n",
    "    return e"
   ]
  },
  {
   "cell_type": "code",
   "execution_count": null,
   "id": "53d270a3-a890-45b5-996e-1654de4ffd4d",
   "metadata": {},
   "outputs": [],
   "source": [
    "annotators = [\"A001\", \"A002\", \"A003\", \"A004\", \"A005\", \"A007\", \"A008\", \"A009\", \"A010\", \"A012\"]\n",
    "\n",
    "embeddings_train = pd.read_pickle(\"created_data/embeddings/t-gbert-lpc.pkl\")\n",
    "embeddings_test = pd.read_pickle(\"created_data/embeddings/t-gbert-lpc_test.pkl\")\n",
    "\n",
    "classifiers = {}\n",
    "for annotator in annotators:\n",
    "    with open(f\"models/t-gbert-lpc_svc_{annotator}.pkl\", 'rb') as f:\n",
    "        classifiers[annotator] = pickle.load(f)\n",
    "\n",
    "classifiers"
   ]
  },
  {
   "cell_type": "code",
   "execution_count": null,
   "id": "8ae90e72-f8b0-4b77-b431-9d1bbda7b5bf",
   "metadata": {},
   "outputs": [],
   "source": [
    "for annotator in annotators:\n",
    "    y_train_split = pd.read_json(f\"created_data/training_data/y_train_{annotator}.jsonl\", lines=True).set_index('id')\n",
    "    y_val_split = pd.read_json(f\"created_data/training_data/y_val_{annotator}.jsonl\", lines=True).set_index('id')\n",
    "    y_train_all = pd.concat([y_train_split, y_val_split])\n",
    "    X_train_all = embeddings_train.loc[y_train_all.index]\n",
    "    \n",
    "    print(f\"{annotator}: {len(X_train_all)}\")\n",
    "        \n",
    "    classifier = classifiers[annotator]\n",
    "    classifier.fit(X_train_all['Embedding'].to_list(), y_train_all[annotator].to_list())"
   ]
  },
  {
   "cell_type": "code",
   "execution_count": null,
   "id": "45a7eac6-f9a8-4ea3-ab5f-5e6df77253af",
   "metadata": {},
   "outputs": [],
   "source": [
    "def output_st1(predictions):\n",
    "    #list with columns [\"id\": ..., \"A001\": \"1.0, \"A002\": 0.0, \"A003\": ..., ..., \"A012\": ...] \n",
    "    QUANT_TO_QUAL={0: 0, 1: 1, 2: 1, 3: 1, 4: 1}\n",
    "    NUMBER_TO_LABEL={0: \"0-Kein\", 1: \"1-Gering\", 2: \"2-Vorhanden\", 3: \"3-Stark\", 4: \"4-Extrem\"}\n",
    "    \n",
    "    #predictions_quant: pd.DataFrame = predictions.applymap(lambda x: LABEL_VALS_QUANT[x] if not pd.isna(x) else x)\n",
    "    predictions_qual: pd.DataFrame = predictions.applymap(lambda x: QUANT_TO_QUAL[x] if not pd.isna(x) else x)\n",
    "    \n",
    "    output = pd.DataFrame(index=[\"id\"])\n",
    "    output.index = predictions.index\n",
    "    \n",
    "    #create expected columns \n",
    "    output[\"bin_maj\"] = predictions_qual.mode(axis='columns')[0]\n",
    "    output[\"bin_one\"] = predictions_qual.apply(lambda x: (x == 1).any(), axis='columns')\n",
    "    output[\"bin_all\"] = predictions_qual.apply(lambda x: not (x == 0).any(), axis='columns')\n",
    "    output[\"multi_maj\"] = predictions.mode(axis='columns')[0].apply(lambda x: NUMBER_TO_LABEL[x])\n",
    "    output[\"disagree_bin\"] = output.apply(lambda x: x[\"bin_one\"] and not x[\"bin_all\"], axis='columns')\n",
    "    \n",
    "    #convert False/True to 0/1\n",
    "    output['bin_maj'] = output['bin_maj'].apply(lambda x: 1 if x else 0)\n",
    "    output['bin_one'] = output['bin_one'].apply(lambda x: 1 if x else 0)\n",
    "    output['bin_all'] = output['bin_all'].apply(lambda x: 1 if x else 0)\n",
    "    output['disagree_bin'] = output['disagree_bin'].apply(lambda x: 1 if x else 0)\n",
    "\n",
    "    return output"
   ]
  },
  {
   "cell_type": "code",
   "execution_count": null,
   "id": "52903348-6a3d-4d8e-b3a3-ffb8f388d931",
   "metadata": {},
   "outputs": [],
   "source": [
    "X_test=embeddings_test\n",
    "predictions = pd.DataFrame(index=X_test.index, columns=annotators)\n",
    "\n",
    "row_annotators = pd.read_json(\"created_data/training_data/X_test.jsonl\", lines=True).set_index('id')[\"annotators\"]\n",
    "for idx, row in X_test.iterrows():\n",
    "    annos = row_annotators.loc[idx]\n",
    "    for anno in annos:\n",
    "        predictions.loc[idx][anno] = classifiers[anno].predict([row['Embedding']])[0]\n",
    "        \n",
    "\n",
    "output = output_st1(predictions)"
   ]
  },
  {
   "cell_type": "code",
   "execution_count": null,
   "id": "d1815b0c-83f1-448e-91c8-3cf9dd98dd14",
   "metadata": {
    "scrolled": true
   },
   "outputs": [],
   "source": [
    "output.to_csv(f'created_data/results/t-gbert-lpc_svc_X-test.tsv', sep=\"\\t\")\n",
    "\n",
    "output"
   ]
  }
 ],
 "metadata": {
  "kernelspec": {
   "name": "python3",
   "language": "python",
   "display_name": "Python 3 (ipykernel)"
  },
  "language_info": {
   "codemirror_mode": {
    "name": "ipython",
    "version": 3
   },
   "file_extension": ".py",
   "mimetype": "text/x-python",
   "name": "python",
   "nbconvert_exporter": "python",
   "pygments_lexer": "ipython3",
   "version": "3.8.10"
  }
 },
 "nbformat": 4,
 "nbformat_minor": 5
}
