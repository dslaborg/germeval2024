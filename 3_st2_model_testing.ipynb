{
 "cells": [
  {
   "cell_type": "code",
   "execution_count": null,
   "id": "f3af59e6-ae76-4eb5-9353-aadda2b83ecf",
   "metadata": {},
   "outputs": [],
   "source": [
    "import os\n",
    "\n",
    "os.environ[\"CUDA_VISIBLE_DEVICES\"]=\"0,1,2,3\"\n",
    "os.environ[\"TOKENIZERS_PARALLELISM\"] = \"false\"\n",
    "\n",
    "import warnings\n",
    "\n",
    "warnings.filterwarnings(\"ignore\")\n",
    "\n",
    "SEED = 42"
   ]
  },
  {
   "cell_type": "code",
   "execution_count": null,
   "id": "3289502e-a449-455b-ba44-3f0eea4ee538",
   "metadata": {},
   "outputs": [],
   "source": [
    "import torch\n",
    "import pickle\n",
    "import pandas as pd"
   ]
  },
  {
   "cell_type": "code",
   "execution_count": null,
   "id": "05802848-64f6-4b63-8ef2-ddf92519b391",
   "metadata": {},
   "outputs": [],
   "source": [
    "print(f\"pytorch version: {torch.__version__}\")\n",
    "print(f\"cuda available: {torch.cuda.is_available()}\")\n",
    "print(f\"devices count: {torch.cuda.device_count()}\")"
   ]
  },
  {
   "cell_type": "code",
   "execution_count": null,
   "id": "0b778738-2ea8-45f4-a77a-8aa7a0ae2cbb",
   "metadata": {},
   "outputs": [],
   "source": [
    "embedders = [\n",
    "    {'model': 'intfloat/multilingual-e5-base', 'model_ident': 'me5-base'},\n",
    "    {'model': 'intfloat/multilingual-e5-large', 'model_ident': 'me5-large'},\n",
    "    {'model': 'deutsche-telekom/gbert-large-paraphrase-cosine', 'model_ident': 't-gbert-lpc'}\n",
    "]\n",
    "\n",
    "classifiers = ['svc', 'rfc', 'mlp']\n",
    "\n",
    "annotators = [\"A001\", \"A002\", \"A003\", \"A004\", \"A005\", \"A007\", \"A008\", \"A009\", \"A010\", \"A012\"]"
   ]
  },
  {
   "cell_type": "code",
   "execution_count": null,
   "id": "0a1c602e-cb28-4b93-b546-0381c09c1476",
   "metadata": {},
   "outputs": [],
   "source": [
    "def output_st2(predictions):\n",
    "\n",
    "    QUANT_TO_QUAL={0: 0, 1: 1, 2: 1, 3: 1, 4: 1}\n",
    "    \n",
    "    predictions_qual: pd.DataFrame = predictions.applymap(lambda x: QUANT_TO_QUAL[x] if not pd.isna(x) else x)\n",
    "    \n",
    "    output_st2 = pd.DataFrame(index=[\"id\"])\n",
    "    output_st2.index = predictions.index\n",
    "    \n",
    "    output_st2[\"id\"] = predictions.index\n",
    "    output_st2[\"dist_bin_0\"] = predictions_qual.apply(lambda x: (x == 0).sum() / x.count(), axis='columns')\n",
    "    output_st2[\"dist_bin_1\"] = predictions_qual.apply(lambda x: (x == 1).sum() / x.count(), axis='columns')\n",
    "    output_st2[\"dist_multi_0\"] = predictions.apply(lambda x: (x == 0).sum() / x.count(), axis='columns')\n",
    "    output_st2[\"dist_multi_1\"] = predictions.apply(lambda x: (x == 1).sum() / x.count(), axis='columns')\n",
    "    output_st2[\"dist_multi_2\"] = predictions.apply(lambda x: (x == 2).sum() / x.count(), axis='columns')\n",
    "    output_st2[\"dist_multi_3\"] = predictions.apply(lambda x: (x == 3).sum() / x.count(), axis='columns')\n",
    "    output_st2[\"dist_multi_4\"] = predictions.apply(lambda x: (x == 4).sum() / x.count(), axis='columns')\n",
    "    \n",
    "    return output_st2"
   ]
  },
  {
   "cell_type": "code",
   "execution_count": null,
   "id": "1d8efa00-bb74-4cfa-849d-590e923d1070",
   "metadata": {},
   "outputs": [],
   "source": [
    "from scipy.spatial import distance\n",
    "\n",
    "def score_st2(correct, prediction):\n",
    "    score = 0\n",
    "    for idx, correct_row in correct.iterrows():\n",
    "        prediction_row = prediction.loc[idx]\n",
    "        correct_vector_bin = [correct_row[\"dist_bin_0\"], correct_row[\"dist_bin_1\"]]\n",
    "        prediction_vector_bin = [prediction_row[\"dist_bin_0\"], prediction_row[\"dist_bin_1\"]]\n",
    "        correct_vector_multi = [correct_row[\"dist_multi_0\"], correct_row[\"dist_multi_1\"], correct_row[\"dist_multi_2\"], correct_row[\"dist_multi_3\"], correct_row[\"dist_multi_4\"]]\n",
    "        prediction_vector_multi = [prediction_row[\"dist_multi_0\"], prediction_row[\"dist_multi_1\"], prediction_row[\"dist_multi_2\"], prediction_row[\"dist_multi_3\"], prediction_row[\"dist_multi_4\"]]\n",
    "\n",
    "        distance_bin = distance.jensenshannon(correct_vector_bin, prediction_vector_bin)\n",
    "        distance_multi = distance.jensenshannon(correct_vector_multi, prediction_vector_multi)\n",
    "        score += (distance_bin + distance_multi) / 2\n",
    "    return score / len(correct) "
   ]
  },
  {
   "cell_type": "code",
   "execution_count": null,
   "id": "4cefb778-f03c-4dd4-9dfa-d9f797c45171",
   "metadata": {},
   "outputs": [],
   "source": [
    "y_val = pd.read_json(\"created_data/training_data/y_val.jsonl\", lines=True).set_index('id')\n",
    "\n",
    "scoring=pd.DataFrame(index = [e['model_ident'] for e in embedders], columns=[c for c in classifiers])\n",
    "\n",
    "for embedder in embedders:\n",
    "    embeddings = pd.read_pickle(f\"created_data/embeddings/{embedder['model_ident']}.pkl\")\n",
    "    X_val = embeddings.loc[y_val.index]\n",
    "    \n",
    "    for classifier in classifiers:\n",
    "        \n",
    "        classifier_models = {}\n",
    "        for annotator in annotators:\n",
    "            with open(f\"models/{embedder['model_ident']}_{classifier}_{annotator}.pkl\", 'rb') as f:\n",
    "                model = pickle.load(f)\n",
    "            classifier_models[annotator] = model\n",
    "\n",
    "        predictions = pd.DataFrame(index=X_val.index, columns=annotators)\n",
    "        \n",
    "        for idx, row in X_val.iterrows():\n",
    "            correct_annos = y_val.loc[idx].dropna().index\n",
    "            for anno in correct_annos:\n",
    "                predictions[anno].loc[idx] = classifier_models[anno].predict([row['Embedding']])[0]\n",
    "                    \n",
    "        output_correct = output_st2(y_val)\n",
    "        output_predicted = output_st2(predictions)\n",
    "        scoring.loc[embedder['model_ident']][classifier] = score_st2(output_correct, output_predicted)"
   ]
  },
  {
   "cell_type": "code",
   "execution_count": null,
   "id": "67b4ac50-361c-442c-b2fb-33ea88eb9ceb",
   "metadata": {},
   "outputs": [],
   "source": [
    "from matplotlib import pyplot as plt\n",
    "\n",
    "scoring.plot(kind=\"bar\")\n",
    "plt.show()\n",
    "scoring"
   ]
  }
 ],
 "metadata": {
  "kernelspec": {
   "name": "python3",
   "language": "python",
   "display_name": "Python 3 (ipykernel)"
  },
  "language_info": {
   "codemirror_mode": {
    "name": "ipython",
    "version": 3
   },
   "file_extension": ".py",
   "mimetype": "text/x-python",
   "name": "python",
   "nbconvert_exporter": "python",
   "pygments_lexer": "ipython3",
   "version": "3.8.10"
  }
 },
 "nbformat": 4,
 "nbformat_minor": 5
}
