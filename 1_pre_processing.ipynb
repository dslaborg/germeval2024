{
 "cells": [
  {
   "cell_type": "markdown",
   "source": [
    "# Preprocessing Script\n",
    "\n",
    "Um Redundanzen als Sicherheit zu schaffen und alle Zellen einzeln ausführbar zu machen, werden die Daten nach jeder Zelle als .pkl abgespeichert. Diese Files werden dann zu beginn der nächsten Zelle eingelesen\n",
    "\n",
    "## Daten Importieren\n",
    "Die Daten werden importiert und die id wird als index column gewählt."
   ],
   "metadata": {
    "collapsed": false
   },
   "id": "d59b6d8aeb95a5af"
  },
  {
   "cell_type": "code",
   "outputs": [],
   "source": [
    "import pandas as pd\n",
    "ANNOTATORS = [\"A001\", \"A002\", \"A003\", \"A004\", \"A005\", \"A007\", \"A008\", \"A009\", \"A010\", \"A012\"]\n",
    "ANNOTATIONS = [\"0-Kein\", \"1-Gering\", \"2-Vorhanden\", \"3-Stark\", \"4-Extrem\"]\n",
    "\n",
    "LABEL_VALS_QUAL={\"0-Kein\": 0, \"1-Gering\": 1, \"2-Vorhanden\": 1, \"3-Stark\": 1, \"4-Extrem\": 1}\n",
    "LABEL_VALS_QUANT={\"0-Kein\": 0, \"1-Gering\": 1, \"2-Vorhanden\": 2, \"3-Stark\": 3, \"4-Extrem\": 4}\n",
    "\n",
    "SEED = 42"
   ],
   "metadata": {
    "collapsed": false
   },
   "id": "1714d770ead20a9b",
   "execution_count": null
  },
  {
   "cell_type": "code",
   "outputs": [],
   "source": [
    "import os\n",
    "\n",
    "#creates all needed directories (doesn't clears them if they already exist), clears model-cache so grid-search will retrain models\n",
    "\n",
    "if not os.path.isdir('created_data/training_data'):\n",
    "    os.makedirs('created_data/training_data')\n",
    "if not os.path.isdir('created_data/preprocessing_data_cache'):\n",
    "    os.makedirs('created_data/preprocessing_data_cache')\n",
    "if not os.path.isdir('created_data/embeddings'):\n",
    "    os.makedirs('created_data/embeddings')\n",
    "if not os.path.isdir('created_data/results'):\n",
    "    os.makedirs('created_data/results')\n",
    "if not os.path.isdir('models'):\n",
    "    os.makedirs('models')   \n",
    "with open(\"created_data/cache.txt\", \"w\") as f:\n",
    "    f.write(\"\")\n",
    "f.close()"
   ],
   "metadata": {
    "collapsed": false
   },
   "id": "a382395978bdbaf9",
   "execution_count": null
  },
  {
   "cell_type": "code",
   "execution_count": null,
   "id": "initial_id",
   "metadata": {
    "collapsed": true
   },
   "outputs": [],
   "source": [
    "dev_train = pd.read_json(path_or_buf=\"task_data/germeval-competition-traindev.jsonl\", lines=True)\n",
    "dev_test = pd.read_json(path_or_buf=\"task_data/germeval-competition-traindev.jsonl\", lines=True)\n",
    "\n",
    "dev_test.to_json(\"created_data/training_data/X_test.jsonl\", orient='records', lines=True)\n",
    "\n",
    "dev_train = dev_train.set_index('id')\n",
    "dev_test = dev_test.set_index('id')\n",
    "\n",
    "dev_train.to_pickle(\"created_data/preprocessing_data_cache/dev_train_after_import.pkl\")\n",
    "dev_test.to_pickle(\"created_data/preprocessing_data_cache/dev_test_after_import.pkl\")\n"
   ]
  },
  {
   "cell_type": "markdown",
   "source": [
    "## Annotation Cols\n",
    "\n",
    "Die Label Listen werden nach dem Annotator aufgeteilt sodass zu jedem Text 11 Annotator Labels (ggf. NaN) vorliegen. "
   ],
   "metadata": {
    "collapsed": false
   },
   "id": "d1d1375585185f10"
  },
  {
   "cell_type": "code",
   "outputs": [],
   "source": [
    "dev_train = pd.read_pickle(\"created_data/preprocessing_data_cache/dev_train_after_import.pkl\")\n",
    "dev_test = pd.read_pickle(\"created_data/preprocessing_data_cache/dev_test_after_import.pkl\")\n",
    "\n",
    "#create a new dataframe with one column per annotator (plus text column)\n",
    "dev_train_annotation_cols = pd.DataFrame(dev_train[\"text\"], columns=[\"text\", \"avg\"]+ANNOTATORS)\n",
    "\n",
    "for idx, row in dev_train.iterrows():\n",
    "    #loop over list in annotation field\n",
    "    for dataset in row[\"annotations\"]:\n",
    "        #split list into entries for the annotator columns\n",
    "        dev_train_annotation_cols[dataset['user']][idx] = dataset['label']\n",
    "        \n",
    "dev_train_annotation_cols.to_pickle(\"created_data/preprocessing_data_cache/dev_train_annotation_cols.pkl\")\n",
    "\n",
    "dev_train_X = pd.DataFrame(dev_train_annotation_cols[\"text\"])\n",
    "dev_train_X.to_pickle(\"created_data/preprocessing_data_cache/dev_train_X.pkl\")\n",
    "\n",
    "dev_train_y_all = pd.DataFrame(dev_train_annotation_cols[ANNOTATORS])\n",
    "\n",
    "dev_train_y_all.to_pickle(\"created_data/preprocessing_data_cache/dev_train_y_All.pkl\")\n",
    "\n",
    "#save labels for each annotator separately\n",
    "for annotator in ANNOTATORS:\n",
    "    dev_train_y_a = pd.DataFrame(dev_train_annotation_cols[annotator][dev_train_annotation_cols[annotator].notnull()])\n",
    "    dev_train_y_a.to_pickle(f\"created_data/preprocessing_data_cache/dev_train_y_{annotator}.pkl\")\n",
    "dev_train_y_all"
   ],
   "metadata": {
    "collapsed": false
   },
   "id": "9ba7de4239fcb845",
   "execution_count": null
  },
  {
   "cell_type": "markdown",
   "source": [
    "## Annotations Zählen\n",
    "Für alle Annotatoren werden ihre Annotations gruppiert nach Klasse gezählt und gespeichert."
   ],
   "metadata": {
    "collapsed": false
   },
   "id": "d3a4643274f91b52"
  },
  {
   "cell_type": "code",
   "outputs": [],
   "source": [
    "%matplotlib inline\n",
    "from matplotlib import pyplot as plt\n",
    "import math\n",
    "\n",
    "dev_train_annotation_cols = pd.read_pickle(\"created_data/preprocessing_data_cache/dev_train_annotation_cols.pkl\")\n",
    "\n",
    "annotation_count = pd.DataFrame(index=[\"gesamt\"]+ANNOTATORS, columns=ANNOTATIONS)\n",
    "\n",
    "# count number of entries for each annotator\n",
    "for annotator in ANNOTATORS:\n",
    "    annotation_count.loc[annotator] = dev_train_annotation_cols[annotator].value_counts()\n",
    "annotation_count.loc[\"gesamt\"] = annotation_count.sum(axis='rows')\n",
    "\n",
    "annotation_count.to_pickle(\"created_data/preprocessing_data_cache/dev_train_annotation_count.pkl\")"
   ],
   "metadata": {
    "collapsed": false
   },
   "id": "f2b34d0386b01705",
   "execution_count": null
  },
  {
   "cell_type": "markdown",
   "source": [
    "## Label Piecharts\n",
    "\n",
    "für jeden Annotator wird ein Piechart erstellt, welches die Verteilung seiner Annotations zeigt."
   ],
   "metadata": {
    "collapsed": false
   },
   "id": "d3fcf649af49b761"
  },
  {
   "cell_type": "code",
   "outputs": [],
   "source": [
    "annotation_count = pd.read_pickle(\"created_data/preprocessing_data_cache/dev_train_annotation_count.pkl\")\n",
    "\n",
    "fig, axs = plt.subplots(3,4)\n",
    "ax_idx = 0\n",
    "for annotator in annotation_count.index:\n",
    "    #callculate next ax\n",
    "    ax = axs[math.floor(ax_idx / 4)][ax_idx % 4]\n",
    "    \n",
    "    #plot pie chart of row on next ax\n",
    "    annotation_count.loc[annotator].plot.pie(ax=ax, figsize=(11,9), autopct= lambda pct: f\"{round(pct, 2)}%\", labels=None, title=annotator)\n",
    "    annotator_label_count = annotation_count.loc[annotator][annotation_count.loc[annotator].notnull()].values.sum()\n",
    "    ax.set(xlabel=f\"{annotator_label_count} Labels\", ylabel=\"\")\n",
    "    \n",
    "    ax_idx += 1\n",
    "    \n",
    "fig.suptitle(\"Verteilung der Labels pro Moderator\")\n",
    "fig.legend(annotation_count.columns, loc=\"lower right\")\n",
    "plt.show()\n",
    "annotation_count"
   ],
   "metadata": {
    "collapsed": false
   },
   "id": "2717cc73bf4ca0a1",
   "execution_count": null
  },
  {
   "cell_type": "code",
   "outputs": [],
   "source": [
    "annotation_count.drop('gesamt').plot.bar(stacked=True)\n",
    "plt.ylabel(\"Anzahl der Annotationen\")\n",
    "plt.xticks(rotation=45)\n",
    "plt.plot()"
   ],
   "metadata": {
    "collapsed": false
   },
   "id": "83528ec5772f66a5",
   "execution_count": null
  },
  {
   "cell_type": "markdown",
   "source": [
    "## Label Anzahl Statistik\n",
    "Es wird erfasst, wie vielen Datenpunkt wie viele unterschiedliche Labels zugeordnet sind. Bsp.: "
   ],
   "metadata": {
    "collapsed": false
   },
   "id": "60ea80bfbdd9236"
  },
  {
   "cell_type": "code",
   "outputs": [],
   "source": [
    "dev_train_y_all = pd.read_pickle(\"created_data/preprocessing_data_cache/dev_train_y_All.pkl\")\n",
    "#count number of entries for each row\n",
    "row_label_count = dev_train_y_all.count(axis='columns')\n",
    "\n",
    "#count occurrence of entry-numbers (e.g. how many rows have 5 entries)  \n",
    "occurrence_count = pd.DataFrame(row_label_count.value_counts(sort=False), index=range(1, 12)).fillna(0)\n",
    "\n",
    "fig, ax = plt.subplots()\n",
    "bars = occurrence_count.plot.bar(ax=ax)\n",
    "ax.set_yscale(\"log\")\n",
    "ax.set_xlabel(\"Anzahl der Labels\")\n",
    "ax.set_ylabel(\"Anzahl der Datensätze\")\n",
    "ax.bar_label(ax.containers[0])\n",
    "ax.set_title(\"Anzahl der Datenpunkte mit x Annotationen\")\n",
    "plt.show()"
   ],
   "metadata": {
    "collapsed": false
   },
   "id": "6fbb6634504142f1",
   "execution_count": null
  },
  {
   "cell_type": "markdown",
   "source": [
    "## Mean / Majority Calculation"
   ],
   "metadata": {
    "collapsed": false
   },
   "id": "d6fc149fcb5a2194"
  },
  {
   "cell_type": "code",
   "outputs": [],
   "source": [
    "dev_train_y_all = pd.read_pickle(\"created_data/preprocessing_data_cache/dev_train_y_All.pkl\")\n",
    "\n",
    "dev_train_y_all_quant = dev_train_y_all.applymap(lambda x: LABEL_VALS_QUANT[x] if not pd.isna(x) else x)\n",
    "dev_train_y_all_qual = dev_train_y_all.applymap(lambda x: LABEL_VALS_QUAL[x] if not pd.isna(x) else x)\n",
    "\n",
    "dev_train_y_all_quant.to_pickle(\"created_data/preprocessing_data_cache/dev_train_y_all_quant.pkl\")\n",
    "dev_train_y_all_qual.to_pickle(\"created_data/preprocessing_data_cache/dev_train_y_all_qual.pkl\")\n",
    "\n",
    "dev_train_y_mean_major = pd.DataFrame(index=dev_train_y_all.index, columns=[\"mean_quant\", \"mean_qual\", \"majority_val\", \"majority_label\"])\n",
    "dev_train_y_mean_major[\"mean_quant\"] = dev_train_y_all_quant.mean(axis='columns')\n",
    "dev_train_y_mean_major[\"mean_qual\"] = dev_train_y_all_qual.mean(axis='columns')\n",
    "dev_train_y_mean_major[\"majority_label\"] = dev_train_y_all.mode(axis='columns')[0]\n",
    "dev_train_y_mean_major[\"majority_val\"] = dev_train_y_mean_major[\"majority_label\"].apply(lambda x: LABEL_VALS_QUANT[x])\n",
    "\n",
    "dev_train_y_mean_major.to_pickle(\"created_data/preprocessing_data_cache/dev_train_y_mean_major.pkl\")\n",
    "dev_train_y_mean_major"
   ],
   "metadata": {
    "collapsed": false
   },
   "id": "916c0884fae333d2",
   "execution_count": null
  },
  {
   "cell_type": "markdown",
   "source": [
    "## Annotator Bias"
   ],
   "metadata": {
    "collapsed": false
   },
   "id": "c6b6c5673db3cc27"
  },
  {
   "cell_type": "code",
   "outputs": [],
   "source": [
    "dev_train_y_all=pd.read_pickle(\"created_data/preprocessing_data_cache/dev_train_y_All.pkl\")\n",
    "dev_train_y_mean_major = pd.read_pickle(\"created_data/preprocessing_data_cache/dev_train_y_mean_major.pkl\")\n",
    "dev_train_y_all_quant = pd.read_pickle(\"created_data/preprocessing_data_cache/dev_train_y_all_quant.pkl\")\n",
    "dev_train_y_all_qual = pd.read_pickle(\"created_data/preprocessing_data_cache/dev_train_y_all_qual.pkl\")\n",
    "\n",
    "dev_train_quant_diff = pd.DataFrame(index=dev_train_y_all.index, columns=ANNOTATORS)\n",
    "dev_train_qual_diff = pd.DataFrame(index=dev_train_y_all.index, columns=ANNOTATORS)\n",
    "\n",
    "for idx, mean_row in dev_train_y_mean_major.iterrows():\n",
    "    quant_row = dev_train_y_all_quant.loc[idx]\n",
    "    qual_row = dev_train_y_all_qual.loc[idx]\n",
    "    not_null_mask = quant_row.notnull()\n",
    "    \n",
    "    dev_train_quant_diff.loc[idx] = quant_row[not_null_mask] - mean_row['mean_quant']\n",
    "    dev_train_qual_diff.loc[idx] = qual_row[not_null_mask] - mean_row['mean_qual']\n",
    "\n",
    "dev_train_bias = pd.DataFrame(index=[\"quant\", \"qual\"], columns=ANNOTATORS)\n",
    "dev_train_bias.loc[\"quant\"] = dev_train_quant_diff.mean()\n",
    "dev_train_bias.loc[\"qual\"] = dev_train_qual_diff.mean()\n",
    "\n",
    "ax = dev_train_bias.transpose().plot.barh(figsize=(11, 10))\n",
    "ax.set_xlabel(\"Durchschnittliche Abweichung\")\n",
    "ax.set_ylabel(\"Kommentator\")\n",
    "ax.set_title(\"Durchschnittliche Abweichung vom Durchschnittslabel pro User\")\n",
    "ax.bar_label(ax.containers[0], fmt=\"%.3f\", label_type=\"center\")\n",
    "ax.bar_label(ax.containers[1], fmt=\"%.3f\", label_type=\"center\")\n",
    "ax.legend([\"Quantitative Abweichung\", \"Qualitative Abweichung\"])\n",
    "plt.show()"
   ],
   "metadata": {
    "collapsed": false
   },
   "id": "a4b55c3f897a65f3",
   "execution_count": null
  },
  {
   "cell_type": "markdown",
   "source": [
    "## Correlation"
   ],
   "metadata": {
    "collapsed": false
   },
   "id": "d92fe2d3fa875cc0"
  },
  {
   "cell_type": "code",
   "outputs": [],
   "source": [
    "dev_train_y_all_quant: pd.DataFrame = pd.read_pickle(\"created_data/preprocessing_data_cache/dev_train_y_all_quant.pkl\")\n",
    "dev_train_y_all_qual = pd.read_pickle(\"created_data/preprocessing_data_cache/dev_train_y_all_qual.pkl\")\n",
    "\n",
    "correlation_quant = dev_train_y_all_quant.corr(method='kendall')\n",
    "plt.imshow(correlation_quant, cmap='viridis')\n",
    "plt.colorbar()\n",
    "plt.xticks(range(0, 10), ANNOTATORS)\n",
    "plt.yticks(range(0, 10), ANNOTATORS)\n",
    "plt.tick_params(top=True, labeltop=True, bottom=False, labelbottom=False)"
   ],
   "metadata": {
    "collapsed": false
   },
   "id": "56aa2ed1d0b6c3c4",
   "execution_count": null
  },
  {
   "cell_type": "markdown",
   "source": [
    "## Train / Val Split"
   ],
   "metadata": {
    "collapsed": false
   },
   "id": "e2ec1d53021b1916"
  },
  {
   "cell_type": "code",
   "outputs": [],
   "source": [
    "from sklearn.model_selection import train_test_split\n",
    "\n",
    "#load Data\n",
    "X_all = pd.read_pickle(\"created_data/preprocessing_data_cache/dev_train_X.pkl\")\n",
    "y_all = pd.read_pickle(\"created_data/preprocessing_data_cache/dev_train_y_All.pkl\")\n",
    "\n",
    "#split y\n",
    "y_train: pd.DataFrame\n",
    "y_val: pd.DataFrame\n",
    "y_train, y_val = train_test_split(y_all, train_size=0.8, test_size=0.2, random_state=SEED)\n",
    "\n",
    "#correspondingly split X\n",
    "X_train: pd.DataFrame = X_all.loc[y_train.index]\n",
    "X_val: pd.DataFrame = X_all.loc[y_val.index]\n",
    "\n",
    "y_train = y_train.applymap(lambda x: LABEL_VALS_QUANT[x] if not pd.isna(x) else x)\n",
    "y_val = y_val.applymap(lambda x: LABEL_VALS_QUANT[x] if not pd.isna(x) else x)\n",
    "y_all = y_all.applymap(lambda x: LABEL_VALS_QUANT[x] if not pd.isna(x) else x)\n",
    "\n",
    "#add id to columns, so it will be written to the file too.\n",
    "y_train[\"id\"] = y_train.index\n",
    "y_val[\"id\"] = y_val.index\n",
    "y_all[\"id\"] = y_all.index\n",
    "X_train[\"id\"] = X_train.index\n",
    "X_val[\"id\"] = X_val.index\n",
    "X_all[\"id\"] = X_all.index\n",
    "\n",
    "\n",
    "\n",
    "\n",
    "#write to jsonl files\n",
    "y_train.to_json(\"created_data/training_data/y_train.jsonl\", orient='records', lines=True)\n",
    "y_val.to_json(\"created_data/training_data/y_val.jsonl\", orient='records', lines=True)\n",
    "y_all.to_json(\"created_data/training_data/y_all.jsonl\", orient='records', lines=True)\n",
    "X_train.to_json(\"created_data/training_data/X_train.jsonl\", orient='records', lines=True)\n",
    "X_val.to_json(\"created_data/training_data/X_val.jsonl\", orient='records', lines=True)\n",
    "X_all.to_json(\"created_data/training_data/X_all.jsonl\", orient='records', lines=True)\n",
    "#same steps for each annotato\n",
    "\n",
    "for annotator in ANNOTATORS:\n",
    "    y_train_anno_series = y_train[annotator].dropna()\n",
    "    y_val_anno_series = y_val[annotator].dropna()\n",
    "    \n",
    "    y_train_anno = pd.DataFrame(y_train_anno_series, index=y_train_anno_series.index, columns=[annotator, 'id'])\n",
    "    y_val_anno = pd.DataFrame(y_val_anno_series, index=y_val_anno_series.index, columns=[annotator, 'id'])\n",
    "    \n",
    "    X_train_anno = X_train.loc[y_train_anno.index]\n",
    "    X_val_anno = X_val.loc[y_val_anno.index]\n",
    "    \n",
    "    y_train_anno['id'] = y_train_anno.index\n",
    "    y_val_anno['id'] = y_val_anno.index\n",
    "\n",
    "    y_train_anno.to_json(f\"created_data/training_data/y_train_{annotator}.jsonl\", orient='records', lines=True)\n",
    "    y_val_anno.to_json(f\"created_data/training_data/y_val_{annotator}.jsonl\", orient='records', lines=True)\n",
    "    X_train_anno.to_json(f\"created_data/training_data/X_train_{annotator}.jsonl\", orient='records', lines=True)\n",
    "    X_val_anno.to_json(f\"created_data/training_data/X_val_{annotator}.jsonl\", orient='records', lines=True)\n",
    "    \n",
    "    print(f\"{annotator}:\\n  len(X_train): {len(X_train_anno)} \\n  len(X_val): {len(X_val_anno)} \\n\")"
   ],
   "metadata": {
    "collapsed": false
   },
   "id": "4e2023bcffdba49c",
   "execution_count": null
  },
  {
   "cell_type": "code",
   "outputs": [],
   "source": [],
   "metadata": {
    "collapsed": false
   },
   "id": "c489daab28d1f17b"
  }
 ],
 "metadata": {
  "kernelspec": {
   "display_name": "Python 3",
   "language": "python",
   "name": "python3"
  },
  "language_info": {
   "codemirror_mode": {
    "name": "ipython",
    "version": 2
   },
   "file_extension": ".py",
   "mimetype": "text/x-python",
   "name": "python",
   "nbconvert_exporter": "python",
   "pygments_lexer": "ipython2",
   "version": "2.7.6"
  }
 },
 "nbformat": 4,
 "nbformat_minor": 5
}
