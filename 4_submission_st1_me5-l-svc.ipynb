{
 "cells": [
  {
   "cell_type": "code",
   "execution_count": 17,
   "id": "0f4c7c2a-d9d7-4ce5-adcc-a950fdf3baf4",
   "metadata": {
    "ExecuteTime": {
     "end_time": "2024-07-20T21:05:04.999343Z",
     "start_time": "2024-07-20T21:05:04.990482Z"
    }
   },
   "outputs": [],
   "source": [
    "import os\n",
    "\n",
    "os.environ[\"CUDA_VISIBLE_DEVICES\"]=\"0,1,2,3\"\n",
    "os.environ[\"TOKENIZERS_PARALLELISM\"] = \"false\"\n",
    "\n",
    "import warnings\n",
    "\n",
    "warnings.filterwarnings(\"ignore\")\n",
    "\n",
    "SEED = 42"
   ]
  },
  {
   "cell_type": "code",
   "execution_count": 18,
   "id": "0d14c42d-777a-4d76-a1b8-8ebe07b2420f",
   "metadata": {
    "ExecuteTime": {
     "end_time": "2024-07-20T21:05:05.006882Z",
     "start_time": "2024-07-20T21:05:05.002116Z"
    }
   },
   "outputs": [],
   "source": [
    "import torch\n",
    "import pickle\n",
    "import pandas as pd\n",
    "from tqdm import tqdm\n",
    "from sklearn.neural_network import MLPClassifier\n",
    "from sklearn.svm import LinearSVC, SVC\n",
    "from sklearn.model_selection import KFold, GridSearchCV\n",
    "from sklearn.metrics import f1_score\n",
    "from sklearn.ensemble import RandomForestClassifier\n",
    "from sentence_transformers import SentenceTransformer"
   ]
  },
  {
   "cell_type": "code",
   "execution_count": 19,
   "id": "5cd0f2be-5a98-4524-bb5e-80074b3239de",
   "metadata": {
    "ExecuteTime": {
     "end_time": "2024-07-20T21:05:05.014838Z",
     "start_time": "2024-07-20T21:05:05.008596Z"
    }
   },
   "outputs": [
    {
     "name": "stdout",
     "output_type": "stream",
     "text": [
      "pytorch version: 2.2.2\n",
      "cuda available: False\n",
      "devices count: 0\n"
     ]
    }
   ],
   "source": [
    "print(f\"pytorch version: {torch.__version__}\")\n",
    "print(f\"cuda available: {torch.cuda.is_available()}\")\n",
    "print(f\"devices count: {torch.cuda.device_count()}\")"
   ]
  },
  {
   "cell_type": "code",
   "execution_count": 20,
   "id": "53d270a3-a890-45b5-996e-1654de4ffd4d",
   "metadata": {
    "ExecuteTime": {
     "end_time": "2024-07-20T21:05:05.212617Z",
     "start_time": "2024-07-20T21:05:05.016088Z"
    }
   },
   "outputs": [
    {
     "data": {
      "text/plain": "{'A001': SVC(C=2, class_weight='balanced', random_state=42),\n 'A002': SVC(C=91, class_weight='balanced', random_state=42),\n 'A003': SVC(C=13, class_weight='balanced', random_state=42),\n 'A004': SVC(C=21, class_weight='balanced', random_state=42),\n 'A005': SVC(C=13, class_weight='balanced', random_state=42),\n 'A007': SVC(C=21, class_weight='balanced', random_state=42),\n 'A008': SVC(C=91, class_weight='balanced', random_state=42),\n 'A009': SVC(C=56, class_weight='balanced', random_state=42),\n 'A010': SVC(C=91, class_weight='balanced', random_state=42),\n 'A012': SVC(C=91, class_weight='balanced', random_state=42)}"
     },
     "execution_count": 20,
     "metadata": {},
     "output_type": "execute_result"
    }
   ],
   "source": [
    "annotators = [\"A001\", \"A002\", \"A003\", \"A004\", \"A005\", \"A007\", \"A008\", \"A009\", \"A010\", \"A012\"]\n",
    "\n",
    "embeddings_train = pd.read_pickle(\"created_data/embeddings/me5-large.pkl\")\n",
    "embeddings_test = pd.read_pickle(\"created_data/embeddings/me5-large_test.pkl\")\n",
    "\n",
    "classifiers = {}\n",
    "for annotator in annotators:\n",
    "    with open(f\"models/me5-large_svc_{annotator}.pkl\", 'rb') as f:\n",
    "        classifiers[annotator] = pickle.load(f)\n",
    "\n",
    "classifiers"
   ]
  },
  {
   "cell_type": "code",
   "execution_count": 21,
   "id": "8ae90e72-f8b0-4b77-b431-9d1bbda7b5bf",
   "metadata": {
    "ExecuteTime": {
     "end_time": "2024-07-20T21:06:13.545188Z",
     "start_time": "2024-07-20T21:05:05.215694Z"
    }
   },
   "outputs": [
    {
     "name": "stdout",
     "output_type": "stream",
     "text": [
      "A001: 970\n",
      "A002: 5998\n",
      "A003: 1242\n",
      "A004: 1394\n",
      "A005: 1552\n",
      "A007: 1246\n",
      "A008: 1849\n",
      "A009: 2923\n",
      "A010: 5998\n",
      "A012: 5998\n"
     ]
    }
   ],
   "source": [
    "for annotator in annotators:\n",
    "    y_train_split = pd.read_json(f\"created_data/training_data/y_train_{annotator}.jsonl\", lines=True).set_index('id')\n",
    "    y_val_split = pd.read_json(f\"created_data/training_data/y_val_{annotator}.jsonl\", lines=True).set_index('id')\n",
    "    y_train_all = pd.concat([y_train_split, y_val_split])\n",
    "    X_train_all = embeddings_train.loc[y_train_all.index]\n",
    "    \n",
    "    print(f\"{annotator}: {len(X_train_all)}\")\n",
    "        \n",
    "    classifier = classifiers[annotator]\n",
    "    classifier.fit(X_train_all['Embedding'].to_list(), y_train_all[annotator].to_list())"
   ]
  },
  {
   "cell_type": "code",
   "execution_count": 22,
   "id": "45a7eac6-f9a8-4ea3-ab5f-5e6df77253af",
   "metadata": {
    "ExecuteTime": {
     "end_time": "2024-07-20T21:06:13.561561Z",
     "start_time": "2024-07-20T21:06:13.550806Z"
    }
   },
   "outputs": [],
   "source": [
    "def output_st1(predictions):\n",
    "    #list with columns [\"id\": ..., \"A001\": \"1.0, \"A002\": 0.0, \"A003\": ..., ..., \"A012\": ...] \n",
    "    QUANT_TO_QUAL={0: 0, 1: 1, 2: 1, 3: 1, 4: 1}\n",
    "    NUMBER_TO_LABEL={0: \"0-Kein\", 1: \"1-Gering\", 2: \"2-Vorhanden\", 3: \"3-Stark\", 4: \"4-Extrem\"}\n",
    "    \n",
    "    #predictions_quant: pd.DataFrame = predictions.applymap(lambda x: LABEL_VALS_QUANT[x] if not pd.isna(x) else x)\n",
    "    predictions_qual: pd.DataFrame = predictions.applymap(lambda x: QUANT_TO_QUAL[x] if not pd.isna(x) else x)\n",
    "    \n",
    "    output = pd.DataFrame(index=[\"id\"])\n",
    "    output.index = predictions.index\n",
    "    \n",
    "    #create expected columns \n",
    "    output[\"bin_maj\"] = predictions_qual.mode(axis='columns')[0]\n",
    "    output[\"bin_one\"] = predictions_qual.apply(lambda x: (x == 1).any(), axis='columns')\n",
    "    output[\"bin_all\"] = predictions_qual.apply(lambda x: not (x == 0).any(), axis='columns')\n",
    "    output[\"multi_maj\"] = predictions.mode(axis='columns')[0].apply(lambda x: NUMBER_TO_LABEL[x])\n",
    "    output[\"disagree_bin\"] = output.apply(lambda x: x[\"bin_one\"] and not x[\"bin_all\"], axis='columns')\n",
    "    \n",
    "    #convert False/True to 0/1\n",
    "    output['bin_maj'] = output['bin_maj'].apply(lambda x: 1 if x else 0)\n",
    "    output['bin_one'] = output['bin_one'].apply(lambda x: 1 if x else 0)\n",
    "    output['bin_all'] = output['bin_all'].apply(lambda x: 1 if x else 0)\n",
    "    output['disagree_bin'] = output['disagree_bin'].apply(lambda x: 1 if x else 0)\n",
    "\n",
    "    return output"
   ]
  },
  {
   "cell_type": "code",
   "execution_count": 23,
   "id": "52903348-6a3d-4d8e-b3a3-ffb8f388d931",
   "metadata": {
    "ExecuteTime": {
     "end_time": "2024-07-20T21:06:34.425472Z",
     "start_time": "2024-07-20T21:06:13.563045Z"
    }
   },
   "outputs": [],
   "source": [
    "X_test=embeddings_test\n",
    "predictions = pd.DataFrame(index=X_test.index, columns=annotators)\n",
    "\n",
    "row_annotators = pd.read_json(\"created_data/training_data/X_test.jsonl\", lines=True).set_index('id')[\"annotators\"]\n",
    "for idx, row in X_test.iterrows():\n",
    "    annos = row_annotators.loc[idx]\n",
    "    for anno in annos:\n",
    "        predictions.loc[idx][anno] = classifiers[anno].predict([row['Embedding']])[0]\n",
    "        \n",
    "\n",
    "output = output_st1(predictions)"
   ]
  },
  {
   "cell_type": "code",
   "execution_count": 24,
   "id": "d1815b0c-83f1-448e-91c8-3cf9dd98dd14",
   "metadata": {
    "scrolled": true,
    "ExecuteTime": {
     "end_time": "2024-07-20T21:06:34.442180Z",
     "start_time": "2024-07-20T21:06:34.428950Z"
    }
   },
   "outputs": [
    {
     "data": {
      "text/plain": "                                  bin_maj  bin_one  bin_all    multi_maj  \\\nid                                                                         \nf3b81af2f6852bf1b9896629525d2f41        1        1        0  2-Vorhanden   \ncf8b8bac7165144bb62b399a98843366        0        0        0       0-Kein   \n0c45cdf4cca5eec566d6dd53653b532b        1        1        0  2-Vorhanden   \n3a60877d2c04ba65f457f7cc3e003169        0        1        0       0-Kein   \nf389b63364d8da93860e3c7e6569bf5b        1        1        0      3-Stark   \n...                                   ...      ...      ...          ...   \n2f7322c62b63ff74ec945bb38ed9f258        0        1        0       0-Kein   \nec5fe35f542aac2f3155177dbf2731c2        0        0        0       0-Kein   \n6674986a02bab67b011df90cc7396a96        0        1        0       0-Kein   \n2a3774eba33afe18af2f0d312d081bb3        0        1        0       0-Kein   \n43891e25f522166dda98045a33563c05        0        0        0       0-Kein   \n\n                                  disagree_bin  \nid                                              \nf3b81af2f6852bf1b9896629525d2f41             1  \ncf8b8bac7165144bb62b399a98843366             0  \n0c45cdf4cca5eec566d6dd53653b532b             1  \n3a60877d2c04ba65f457f7cc3e003169             1  \nf389b63364d8da93860e3c7e6569bf5b             1  \n...                                        ...  \n2f7322c62b63ff74ec945bb38ed9f258             1  \nec5fe35f542aac2f3155177dbf2731c2             0  \n6674986a02bab67b011df90cc7396a96             1  \n2a3774eba33afe18af2f0d312d081bb3             1  \n43891e25f522166dda98045a33563c05             0  \n\n[1986 rows x 5 columns]",
      "text/html": "<div>\n<style scoped>\n    .dataframe tbody tr th:only-of-type {\n        vertical-align: middle;\n    }\n\n    .dataframe tbody tr th {\n        vertical-align: top;\n    }\n\n    .dataframe thead th {\n        text-align: right;\n    }\n</style>\n<table border=\"1\" class=\"dataframe\">\n  <thead>\n    <tr style=\"text-align: right;\">\n      <th></th>\n      <th>bin_maj</th>\n      <th>bin_one</th>\n      <th>bin_all</th>\n      <th>multi_maj</th>\n      <th>disagree_bin</th>\n    </tr>\n    <tr>\n      <th>id</th>\n      <th></th>\n      <th></th>\n      <th></th>\n      <th></th>\n      <th></th>\n    </tr>\n  </thead>\n  <tbody>\n    <tr>\n      <th>f3b81af2f6852bf1b9896629525d2f41</th>\n      <td>1</td>\n      <td>1</td>\n      <td>0</td>\n      <td>2-Vorhanden</td>\n      <td>1</td>\n    </tr>\n    <tr>\n      <th>cf8b8bac7165144bb62b399a98843366</th>\n      <td>0</td>\n      <td>0</td>\n      <td>0</td>\n      <td>0-Kein</td>\n      <td>0</td>\n    </tr>\n    <tr>\n      <th>0c45cdf4cca5eec566d6dd53653b532b</th>\n      <td>1</td>\n      <td>1</td>\n      <td>0</td>\n      <td>2-Vorhanden</td>\n      <td>1</td>\n    </tr>\n    <tr>\n      <th>3a60877d2c04ba65f457f7cc3e003169</th>\n      <td>0</td>\n      <td>1</td>\n      <td>0</td>\n      <td>0-Kein</td>\n      <td>1</td>\n    </tr>\n    <tr>\n      <th>f389b63364d8da93860e3c7e6569bf5b</th>\n      <td>1</td>\n      <td>1</td>\n      <td>0</td>\n      <td>3-Stark</td>\n      <td>1</td>\n    </tr>\n    <tr>\n      <th>...</th>\n      <td>...</td>\n      <td>...</td>\n      <td>...</td>\n      <td>...</td>\n      <td>...</td>\n    </tr>\n    <tr>\n      <th>2f7322c62b63ff74ec945bb38ed9f258</th>\n      <td>0</td>\n      <td>1</td>\n      <td>0</td>\n      <td>0-Kein</td>\n      <td>1</td>\n    </tr>\n    <tr>\n      <th>ec5fe35f542aac2f3155177dbf2731c2</th>\n      <td>0</td>\n      <td>0</td>\n      <td>0</td>\n      <td>0-Kein</td>\n      <td>0</td>\n    </tr>\n    <tr>\n      <th>6674986a02bab67b011df90cc7396a96</th>\n      <td>0</td>\n      <td>1</td>\n      <td>0</td>\n      <td>0-Kein</td>\n      <td>1</td>\n    </tr>\n    <tr>\n      <th>2a3774eba33afe18af2f0d312d081bb3</th>\n      <td>0</td>\n      <td>1</td>\n      <td>0</td>\n      <td>0-Kein</td>\n      <td>1</td>\n    </tr>\n    <tr>\n      <th>43891e25f522166dda98045a33563c05</th>\n      <td>0</td>\n      <td>0</td>\n      <td>0</td>\n      <td>0-Kein</td>\n      <td>0</td>\n    </tr>\n  </tbody>\n</table>\n<p>1986 rows × 5 columns</p>\n</div>"
     },
     "execution_count": 24,
     "metadata": {},
     "output_type": "execute_result"
    }
   ],
   "source": [
    "output.to_csv(f'created_data/results/st1_me5-l_svc.tsv', sep=\"\\t\")\n",
    "\n",
    "output"
   ]
  }
 ],
 "metadata": {
  "kernelspec": {
   "name": "python3",
   "language": "python",
   "display_name": "Python 3 (ipykernel)"
  },
  "language_info": {
   "codemirror_mode": {
    "name": "ipython",
    "version": 3
   },
   "file_extension": ".py",
   "mimetype": "text/x-python",
   "name": "python",
   "nbconvert_exporter": "python",
   "pygments_lexer": "ipython3",
   "version": "3.8.10"
  }
 },
 "nbformat": 4,
 "nbformat_minor": 5
}
