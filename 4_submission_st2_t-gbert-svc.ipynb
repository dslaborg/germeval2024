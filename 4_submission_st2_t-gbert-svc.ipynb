{
 "cells": [
  {
   "cell_type": "code",
   "execution_count": null,
   "id": "f332f436-fcea-4cd8-90a2-21280e990791",
   "metadata": {},
   "outputs": [],
   "source": [
    "import os\n",
    "\n",
    "os.environ[\"CUDA_VISIBLE_DEVICES\"]=\"0,1,2,3\"\n",
    "os.environ[\"TOKENIZERS_PARALLELISM\"] = \"false\"\n",
    "\n",
    "import warnings\n",
    "\n",
    "warnings.filterwarnings(\"ignore\")\n",
    "\n",
    "SEED = 42"
   ]
  },
  {
   "cell_type": "code",
   "execution_count": null,
   "id": "ee0c8ef8-4e7d-4816-b9e5-925ac64c9fff",
   "metadata": {},
   "outputs": [],
   "source": [
    "import torch\n",
    "import pickle\n",
    "import pandas as pd\n",
    "from tqdm import tqdm\n",
    "from sklearn.neural_network import MLPClassifier\n",
    "from sklearn.svm import LinearSVC, SVC\n",
    "from sklearn.model_selection import KFold, GridSearchCV\n",
    "from sklearn.metrics import f1_score\n",
    "from sklearn.ensemble import RandomForestClassifier\n",
    "from sentence_transformers import SentenceTransformer\n",
    "from sklearn.base import clone\n",
    "\n",
    "print(f\"pytorch version: {torch.__version__}\")\n",
    "print(f\"cuda available: {torch.cuda.is_available()}\")\n",
    "print(f\"devices count: {torch.cuda.device_count()}\")"
   ]
  },
  {
   "cell_type": "code",
   "execution_count": null,
   "id": "c69695ca-d8ec-4186-be7e-378493442d1b",
   "metadata": {},
   "outputs": [],
   "source": [
    "annotators = [\"A001\", \"A002\", \"A003\", \"A004\", \"A005\", \"A007\", \"A008\", \"A009\", \"A010\", \"A012\"]\n",
    "embedder = 't-gbert-lpc'\n",
    "classifier = 'svc'"
   ]
  },
  {
   "cell_type": "code",
   "execution_count": null,
   "id": "9575d633-c71a-4580-8452-58a9f797ae13",
   "metadata": {},
   "outputs": [],
   "source": [
    "def output_st2(predictions):\n",
    "\n",
    "    QUANT_TO_QUAL={0: 0, 1: 1, 2: 1, 3: 1, 4: 1}\n",
    "    \n",
    "    predictions_qual: pd.DataFrame = predictions.applymap(lambda x: QUANT_TO_QUAL[x] if not pd.isna(x) else x)\n",
    "    \n",
    "    output_st2 = pd.DataFrame(index=[\"id\"])\n",
    "    output_st2.index = predictions.index\n",
    "    \n",
    "    output_st2[\"dist_bin_0\"] = predictions_qual.apply(lambda x: (x == 0).sum() / x.count(), axis='columns')\n",
    "    output_st2[\"dist_bin_1\"] = predictions_qual.apply(lambda x: (x == 1).sum() / x.count(), axis='columns')\n",
    "    output_st2[\"dist_multi_0\"] = predictions.apply(lambda x: (x == 0).sum() / x.count(), axis='columns')\n",
    "    output_st2[\"dist_multi_1\"] = predictions.apply(lambda x: (x == 1).sum() / x.count(), axis='columns')\n",
    "    output_st2[\"dist_multi_2\"] = predictions.apply(lambda x: (x == 2).sum() / x.count(), axis='columns')\n",
    "    output_st2[\"dist_multi_3\"] = predictions.apply(lambda x: (x == 3).sum() / x.count(), axis='columns')\n",
    "    output_st2[\"dist_multi_4\"] = predictions.apply(lambda x: (x == 4).sum() / x.count(), axis='columns')\n",
    "    \n",
    "    return output_st2"
   ]
  },
  {
   "cell_type": "code",
   "execution_count": null,
   "id": "1d8a3ae3-d35f-471d-91a5-1917060dc467",
   "metadata": {},
   "outputs": [],
   "source": [
    "models = {}\n",
    "embeddings = pd.read_pickle(f\"created_data/embeddings/{embedder}.pkl\")\n",
    "\n",
    "for annotator in annotators:\n",
    "    y_train_split = pd.read_json(f\"created_data/training_data/y_train_{annotator}.jsonl\", lines=True).set_index('id')\n",
    "    y_val_split = pd.read_json(f\"created_data/training_data/y_val_{annotator}.jsonl\", lines=True).set_index('id')\n",
    "    y_train_all = pd.concat([y_train_split, y_val_split])\n",
    "    X_train_all = embeddings.loc[y_train_all.index]\n",
    "    \n",
    "    with open(f\"models/{embedder}_{classifier}_{annotator}.pkl\", 'rb') as f:\n",
    "        model = pickle.load(f)\n",
    "    model.fit(X_train_all['Embedding'].tolist(), y_train_all[annotator].tolist())\n",
    "    models[annotator] = model"
   ]
  },
  {
   "cell_type": "code",
   "execution_count": null,
   "id": "5544db36-8ac8-40ad-b6ed-b06adb4f90d3",
   "metadata": {},
   "outputs": [],
   "source": [
    "embeddings_test = pd.read_pickle(f\"created_data/embeddings/{embedder}_test.pkl\")\n",
    "\n",
    "annotator_rows = pd.read_json(f\"created_data/training_data/X_test.jsonl\", lines=True).set_index('id')\n",
    "predictions = pd.DataFrame(index=annotator_rows.index, columns=annotators)\n",
    "\n",
    "for idx, annotator_row in annotator_rows.iterrows():\n",
    "    correct_annos = annotator_row['annotators']\n",
    "    embedding = embeddings_test.loc[idx]['Embedding']\n",
    "    for anno in correct_annos:\n",
    "        predictions.loc[idx][anno] = models[anno].predict([embedding])[0]\n",
    "\n",
    "output = output_st2(predictions)"
   ]
  },
  {
   "cell_type": "code",
   "execution_count": null,
   "id": "9d8d97fd-fc08-43aa-ac46-4dcc34894d98",
   "metadata": {},
   "outputs": [],
   "source": [
    "output.to_csv(f'created_data/results/st2_{embedder}_{classifier}.tsv', sep=\"\\t\")\n",
    "\n",
    "output"
   ]
  }
 ],
 "metadata": {
  "kernelspec": {
   "name": "python3",
   "language": "python",
   "display_name": "Python 3 (ipykernel)"
  },
  "language_info": {
   "codemirror_mode": {
    "name": "ipython",
    "version": 3
   },
   "file_extension": ".py",
   "mimetype": "text/x-python",
   "name": "python",
   "nbconvert_exporter": "python",
   "pygments_lexer": "ipython3",
   "version": "3.8.10"
  }
 },
 "nbformat": 4,
 "nbformat_minor": 5
}
