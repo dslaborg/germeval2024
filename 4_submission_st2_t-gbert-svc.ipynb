{
 "cells": [
  {
   "cell_type": "code",
   "execution_count": 14,
   "id": "f332f436-fcea-4cd8-90a2-21280e990791",
   "metadata": {
    "ExecuteTime": {
     "end_time": "2024-07-20T21:08:53.917987Z",
     "start_time": "2024-07-20T21:08:53.911404Z"
    }
   },
   "outputs": [],
   "source": [
    "import os\n",
    "\n",
    "os.environ[\"CUDA_VISIBLE_DEVICES\"]=\"0,1,2,3\"\n",
    "os.environ[\"TOKENIZERS_PARALLELISM\"] = \"false\"\n",
    "\n",
    "import warnings\n",
    "\n",
    "warnings.filterwarnings(\"ignore\")\n",
    "\n",
    "SEED = 42"
   ]
  },
  {
   "cell_type": "code",
   "execution_count": 15,
   "id": "ee0c8ef8-4e7d-4816-b9e5-925ac64c9fff",
   "metadata": {
    "ExecuteTime": {
     "end_time": "2024-07-20T21:08:53.926612Z",
     "start_time": "2024-07-20T21:08:53.920808Z"
    }
   },
   "outputs": [
    {
     "name": "stdout",
     "output_type": "stream",
     "text": [
      "pytorch version: 2.2.2\n",
      "cuda available: False\n",
      "devices count: 0\n"
     ]
    }
   ],
   "source": [
    "import torch\n",
    "import pickle\n",
    "import pandas as pd\n",
    "from tqdm import tqdm\n",
    "from sklearn.neural_network import MLPClassifier\n",
    "from sklearn.svm import LinearSVC, SVC\n",
    "from sklearn.model_selection import KFold, GridSearchCV\n",
    "from sklearn.metrics import f1_score\n",
    "from sklearn.ensemble import RandomForestClassifier\n",
    "from sentence_transformers import SentenceTransformer\n",
    "from sklearn.base import clone\n",
    "\n",
    "print(f\"pytorch version: {torch.__version__}\")\n",
    "print(f\"cuda available: {torch.cuda.is_available()}\")\n",
    "print(f\"devices count: {torch.cuda.device_count()}\")"
   ]
  },
  {
   "cell_type": "code",
   "execution_count": 16,
   "id": "c69695ca-d8ec-4186-be7e-378493442d1b",
   "metadata": {
    "ExecuteTime": {
     "end_time": "2024-07-20T21:08:53.932636Z",
     "start_time": "2024-07-20T21:08:53.928971Z"
    }
   },
   "outputs": [],
   "source": [
    "annotators = [\"A001\", \"A002\", \"A003\", \"A004\", \"A005\", \"A007\", \"A008\", \"A009\", \"A010\", \"A012\"]\n",
    "embedder = 't-gbert-lpc'\n",
    "classifier = 'svc'"
   ]
  },
  {
   "cell_type": "code",
   "execution_count": 17,
   "id": "9575d633-c71a-4580-8452-58a9f797ae13",
   "metadata": {
    "ExecuteTime": {
     "end_time": "2024-07-20T21:08:53.940690Z",
     "start_time": "2024-07-20T21:08:53.934051Z"
    }
   },
   "outputs": [],
   "source": [
    "def output_st2(predictions):\n",
    "\n",
    "    QUANT_TO_QUAL={0: 0, 1: 1, 2: 1, 3: 1, 4: 1}\n",
    "    \n",
    "    predictions_qual: pd.DataFrame = predictions.applymap(lambda x: QUANT_TO_QUAL[x] if not pd.isna(x) else x)\n",
    "    \n",
    "    output_st2 = pd.DataFrame(index=[\"id\"])\n",
    "    output_st2.index = predictions.index\n",
    "    \n",
    "    output_st2[\"dist_bin_0\"] = predictions_qual.apply(lambda x: (x == 0).sum() / x.count(), axis='columns')\n",
    "    output_st2[\"dist_bin_1\"] = predictions_qual.apply(lambda x: (x == 1).sum() / x.count(), axis='columns')\n",
    "    output_st2[\"dist_multi_0\"] = predictions.apply(lambda x: (x == 0).sum() / x.count(), axis='columns')\n",
    "    output_st2[\"dist_multi_1\"] = predictions.apply(lambda x: (x == 1).sum() / x.count(), axis='columns')\n",
    "    output_st2[\"dist_multi_2\"] = predictions.apply(lambda x: (x == 2).sum() / x.count(), axis='columns')\n",
    "    output_st2[\"dist_multi_3\"] = predictions.apply(lambda x: (x == 3).sum() / x.count(), axis='columns')\n",
    "    output_st2[\"dist_multi_4\"] = predictions.apply(lambda x: (x == 4).sum() / x.count(), axis='columns')\n",
    "    \n",
    "    return output_st2"
   ]
  },
  {
   "cell_type": "code",
   "execution_count": 18,
   "id": "1d8a3ae3-d35f-471d-91a5-1917060dc467",
   "metadata": {
    "ExecuteTime": {
     "end_time": "2024-07-20T21:10:01.637328Z",
     "start_time": "2024-07-20T21:08:53.943190Z"
    }
   },
   "outputs": [],
   "source": [
    "models = {}\n",
    "embeddings = pd.read_pickle(f\"created_data/embeddings/{embedder}.pkl\")\n",
    "\n",
    "for annotator in annotators:\n",
    "    y_train_split = pd.read_json(f\"created_data/training_data/y_train_{annotator}.jsonl\", lines=True).set_index('id')\n",
    "    y_val_split = pd.read_json(f\"created_data/training_data/y_val_{annotator}.jsonl\", lines=True).set_index('id')\n",
    "    y_train_all = pd.concat([y_train_split, y_val_split])\n",
    "    X_train_all = embeddings.loc[y_train_all.index]\n",
    "    \n",
    "    with open(f\"models/{embedder}_{classifier}_{annotator}.pkl\", 'rb') as f:\n",
    "        model = pickle.load(f)\n",
    "    model.fit(X_train_all['Embedding'].tolist(), y_train_all[annotator].tolist())\n",
    "    models[annotator] = model"
   ]
  },
  {
   "cell_type": "code",
   "execution_count": 19,
   "id": "5544db36-8ac8-40ad-b6ed-b06adb4f90d3",
   "metadata": {
    "ExecuteTime": {
     "end_time": "2024-07-20T21:10:21.161926Z",
     "start_time": "2024-07-20T21:10:01.638587Z"
    }
   },
   "outputs": [],
   "source": [
    "embeddings_test = pd.read_pickle(f\"created_data/embeddings/{embedder}_test.pkl\")\n",
    "\n",
    "annotator_rows = pd.read_json(f\"created_data/training_data/X_test.jsonl\", lines=True).set_index('id')\n",
    "predictions = pd.DataFrame(index=annotator_rows.index, columns=annotators)\n",
    "\n",
    "for idx, annotator_row in annotator_rows.iterrows():\n",
    "    correct_annos = annotator_row['annotators']\n",
    "    embedding = embeddings_test.loc[idx]['Embedding']\n",
    "    for anno in correct_annos:\n",
    "        predictions.loc[idx][anno] = models[anno].predict([embedding])[0]\n",
    "\n",
    "output = output_st2(predictions)"
   ]
  },
  {
   "cell_type": "code",
   "execution_count": 20,
   "id": "9d8d97fd-fc08-43aa-ac46-4dcc34894d98",
   "metadata": {
    "ExecuteTime": {
     "end_time": "2024-07-20T21:10:21.187285Z",
     "start_time": "2024-07-20T21:10:21.164192Z"
    }
   },
   "outputs": [
    {
     "data": {
      "text/plain": "                                  dist_bin_0  dist_bin_1  dist_multi_0  \\\nid                                                                       \nf3b81af2f6852bf1b9896629525d2f41         0.6         0.4           0.6   \ncf8b8bac7165144bb62b399a98843366         1.0         0.0           1.0   \n0c45cdf4cca5eec566d6dd53653b532b         0.1         0.9           0.1   \n3a60877d2c04ba65f457f7cc3e003169         0.6         0.4           0.6   \nf389b63364d8da93860e3c7e6569bf5b         0.7         0.3           0.7   \n...                                      ...         ...           ...   \n2f7322c62b63ff74ec945bb38ed9f258         1.0         0.0           1.0   \nec5fe35f542aac2f3155177dbf2731c2         1.0         0.0           1.0   \n6674986a02bab67b011df90cc7396a96         1.0         0.0           1.0   \n2a3774eba33afe18af2f0d312d081bb3         1.0         0.0           1.0   \n43891e25f522166dda98045a33563c05         1.0         0.0           1.0   \n\n                                  dist_multi_1  dist_multi_2  dist_multi_3  \\\nid                                                                           \nf3b81af2f6852bf1b9896629525d2f41           0.0           0.2           0.2   \ncf8b8bac7165144bb62b399a98843366           0.0           0.0           0.0   \n0c45cdf4cca5eec566d6dd53653b532b           0.0           0.5           0.4   \n3a60877d2c04ba65f457f7cc3e003169           0.0           0.3           0.1   \nf389b63364d8da93860e3c7e6569bf5b           0.0           0.2           0.1   \n...                                        ...           ...           ...   \n2f7322c62b63ff74ec945bb38ed9f258           0.0           0.0           0.0   \nec5fe35f542aac2f3155177dbf2731c2           0.0           0.0           0.0   \n6674986a02bab67b011df90cc7396a96           0.0           0.0           0.0   \n2a3774eba33afe18af2f0d312d081bb3           0.0           0.0           0.0   \n43891e25f522166dda98045a33563c05           0.0           0.0           0.0   \n\n                                  dist_multi_4  \nid                                              \nf3b81af2f6852bf1b9896629525d2f41           0.0  \ncf8b8bac7165144bb62b399a98843366           0.0  \n0c45cdf4cca5eec566d6dd53653b532b           0.0  \n3a60877d2c04ba65f457f7cc3e003169           0.0  \nf389b63364d8da93860e3c7e6569bf5b           0.0  \n...                                        ...  \n2f7322c62b63ff74ec945bb38ed9f258           0.0  \nec5fe35f542aac2f3155177dbf2731c2           0.0  \n6674986a02bab67b011df90cc7396a96           0.0  \n2a3774eba33afe18af2f0d312d081bb3           0.0  \n43891e25f522166dda98045a33563c05           0.0  \n\n[1986 rows x 7 columns]",
      "text/html": "<div>\n<style scoped>\n    .dataframe tbody tr th:only-of-type {\n        vertical-align: middle;\n    }\n\n    .dataframe tbody tr th {\n        vertical-align: top;\n    }\n\n    .dataframe thead th {\n        text-align: right;\n    }\n</style>\n<table border=\"1\" class=\"dataframe\">\n  <thead>\n    <tr style=\"text-align: right;\">\n      <th></th>\n      <th>dist_bin_0</th>\n      <th>dist_bin_1</th>\n      <th>dist_multi_0</th>\n      <th>dist_multi_1</th>\n      <th>dist_multi_2</th>\n      <th>dist_multi_3</th>\n      <th>dist_multi_4</th>\n    </tr>\n    <tr>\n      <th>id</th>\n      <th></th>\n      <th></th>\n      <th></th>\n      <th></th>\n      <th></th>\n      <th></th>\n      <th></th>\n    </tr>\n  </thead>\n  <tbody>\n    <tr>\n      <th>f3b81af2f6852bf1b9896629525d2f41</th>\n      <td>0.6</td>\n      <td>0.4</td>\n      <td>0.6</td>\n      <td>0.0</td>\n      <td>0.2</td>\n      <td>0.2</td>\n      <td>0.0</td>\n    </tr>\n    <tr>\n      <th>cf8b8bac7165144bb62b399a98843366</th>\n      <td>1.0</td>\n      <td>0.0</td>\n      <td>1.0</td>\n      <td>0.0</td>\n      <td>0.0</td>\n      <td>0.0</td>\n      <td>0.0</td>\n    </tr>\n    <tr>\n      <th>0c45cdf4cca5eec566d6dd53653b532b</th>\n      <td>0.1</td>\n      <td>0.9</td>\n      <td>0.1</td>\n      <td>0.0</td>\n      <td>0.5</td>\n      <td>0.4</td>\n      <td>0.0</td>\n    </tr>\n    <tr>\n      <th>3a60877d2c04ba65f457f7cc3e003169</th>\n      <td>0.6</td>\n      <td>0.4</td>\n      <td>0.6</td>\n      <td>0.0</td>\n      <td>0.3</td>\n      <td>0.1</td>\n      <td>0.0</td>\n    </tr>\n    <tr>\n      <th>f389b63364d8da93860e3c7e6569bf5b</th>\n      <td>0.7</td>\n      <td>0.3</td>\n      <td>0.7</td>\n      <td>0.0</td>\n      <td>0.2</td>\n      <td>0.1</td>\n      <td>0.0</td>\n    </tr>\n    <tr>\n      <th>...</th>\n      <td>...</td>\n      <td>...</td>\n      <td>...</td>\n      <td>...</td>\n      <td>...</td>\n      <td>...</td>\n      <td>...</td>\n    </tr>\n    <tr>\n      <th>2f7322c62b63ff74ec945bb38ed9f258</th>\n      <td>1.0</td>\n      <td>0.0</td>\n      <td>1.0</td>\n      <td>0.0</td>\n      <td>0.0</td>\n      <td>0.0</td>\n      <td>0.0</td>\n    </tr>\n    <tr>\n      <th>ec5fe35f542aac2f3155177dbf2731c2</th>\n      <td>1.0</td>\n      <td>0.0</td>\n      <td>1.0</td>\n      <td>0.0</td>\n      <td>0.0</td>\n      <td>0.0</td>\n      <td>0.0</td>\n    </tr>\n    <tr>\n      <th>6674986a02bab67b011df90cc7396a96</th>\n      <td>1.0</td>\n      <td>0.0</td>\n      <td>1.0</td>\n      <td>0.0</td>\n      <td>0.0</td>\n      <td>0.0</td>\n      <td>0.0</td>\n    </tr>\n    <tr>\n      <th>2a3774eba33afe18af2f0d312d081bb3</th>\n      <td>1.0</td>\n      <td>0.0</td>\n      <td>1.0</td>\n      <td>0.0</td>\n      <td>0.0</td>\n      <td>0.0</td>\n      <td>0.0</td>\n    </tr>\n    <tr>\n      <th>43891e25f522166dda98045a33563c05</th>\n      <td>1.0</td>\n      <td>0.0</td>\n      <td>1.0</td>\n      <td>0.0</td>\n      <td>0.0</td>\n      <td>0.0</td>\n      <td>0.0</td>\n    </tr>\n  </tbody>\n</table>\n<p>1986 rows × 7 columns</p>\n</div>"
     },
     "execution_count": 20,
     "metadata": {},
     "output_type": "execute_result"
    }
   ],
   "source": [
    "output.to_csv(f'created_data/results/st2_{embedder}_{classifier}.tsv', sep=\"\\t\")\n",
    "\n",
    "output"
   ]
  }
 ],
 "metadata": {
  "kernelspec": {
   "name": "python3",
   "language": "python",
   "display_name": "Python 3 (ipykernel)"
  },
  "language_info": {
   "codemirror_mode": {
    "name": "ipython",
    "version": 3
   },
   "file_extension": ".py",
   "mimetype": "text/x-python",
   "name": "python",
   "nbconvert_exporter": "python",
   "pygments_lexer": "ipython3",
   "version": "3.8.10"
  }
 },
 "nbformat": 4,
 "nbformat_minor": 5
}
