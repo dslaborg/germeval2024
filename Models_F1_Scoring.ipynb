{
 "cells": [
  {
   "cell_type": "code",
   "execution_count": 1,
   "id": "fda07425-fb1a-4fbd-ba95-e9936645adc2",
   "metadata": {},
   "outputs": [],
   "source": [
    "import os\n",
    "\n",
    "os.environ[\"CUDA_VISIBLE_DEVICES\"]=\"0,1,2,3\"\n",
    "os.environ[\"TOKENIZERS_PARALLELISM\"] = \"false\"\n",
    "\n",
    "import warnings\n",
    "\n",
    "warnings.filterwarnings(\"ignore\")\n",
    "\n",
    "SEED = 42"
   ]
  },
  {
   "cell_type": "code",
   "execution_count": 2,
   "id": "dd972ddb-2511-4cbf-8873-8358120d91a4",
   "metadata": {},
   "outputs": [
    {
     "name": "stdout",
     "output_type": "stream",
     "text": [
      "pytorch version: 2.1.2+cu118\n",
      "cuda available: False\n",
      "devices count: 0\n"
     ]
    }
   ],
   "source": [
    "import torch\n",
    "import pickle\n",
    "import pandas as pd\n",
    "from tqdm import tqdm\n",
    "from sklearn.neural_network import MLPClassifier\n",
    "from sklearn.svm import LinearSVC, SVC\n",
    "from sklearn.model_selection import KFold, GridSearchCV\n",
    "from sklearn.metrics import f1_score\n",
    "from sklearn.ensemble import RandomForestClassifier\n",
    "from sentence_transformers import SentenceTransformer\n",
    "from sklearn.base import clone\n",
    "\n",
    "print(f\"pytorch version: {torch.__version__}\")\n",
    "print(f\"cuda available: {torch.cuda.is_available()}\")\n",
    "print(f\"devices count: {torch.cuda.device_count()}\")"
   ]
  },
  {
   "cell_type": "code",
   "execution_count": 3,
   "id": "c6d6cb82-fb0b-40d2-ac74-cadfb03a8e40",
   "metadata": {},
   "outputs": [],
   "source": [
    "annotators = [\"A001\", \"A002\", \"A003\", \"A004\", \"A005\", \"A007\", \"A008\", \"A009\", \"A010\", \"A012\"]\n",
    "embedders = ['me5-large', 't-gbert-lpc']\n",
    "classifiers = ['svc', 'rfc', 'mlp']"
   ]
  },
  {
   "cell_type": "code",
   "execution_count": 15,
   "id": "b2d5b778-d216-4ee4-88c2-0ff03d01e73d",
   "metadata": {},
   "outputs": [
    {
     "data": {
      "text/plain": [
       "{'me5-large': {'svc': 2.8585116706747855,\n",
       "  'rfc': 1.8957931230231722,\n",
       "  'mlp': 2.9432966921892927},\n",
       " 't-gbert-lpc': {'svc': 2.7827020256966764,\n",
       "  'rfc': 1.9671971517976103,\n",
       "  'mlp': 2.8283099490656523}}"
      ]
     },
     "execution_count": 15,
     "metadata": {},
     "output_type": "execute_result"
    }
   ],
   "source": [
    "score = {\n",
    "    'me5-large': {\n",
    "        'svc': 0,\n",
    "        'rfc': 0,\n",
    "        'mlp': 0\n",
    "    },\n",
    "    't-gbert-lpc': {\n",
    "        'svc': 0,\n",
    "        'rfc': 0,\n",
    "        'mlp': 0\n",
    "    },\n",
    "}\n",
    "\n",
    "for embedder in embedders:\n",
    "    embeddings = pd.read_pickle(f\"data/embeddings/{embedder}.pkl\")\n",
    "    for annotator in annotators:\n",
    "        y_val = pd.read_json(f\"data/training/y_val_{annotator}.jsonl\", lines=True).set_index('id')\n",
    "        X_val = embeddings.loc[y_val.index]\n",
    "        for classifier in classifiers:\n",
    "            with open(f\"data/models/{embedder}_{classifier}_{annotator}.pkl\", 'rb') as f:\n",
    "                model = pickle.load(f)\n",
    "            predictions = model.predict(X_val['Embedding'].to_list())\n",
    "            score[embedder][classifier] += f1_score(y_val[annotator].to_list(), predictions, average='macro')\n",
    "score"
   ]
  },
  {
   "cell_type": "code",
   "execution_count": null,
   "id": "8351ed18-a927-4393-9867-17fa802ca9ce",
   "metadata": {},
   "outputs": [],
   "source": []
  }
 ],
 "metadata": {
  "kernelspec": {
   "display_name": "bp-venv6",
   "language": "python",
   "name": "bp-venv6"
  },
  "language_info": {
   "codemirror_mode": {
    "name": "ipython",
    "version": 3
   },
   "file_extension": ".py",
   "mimetype": "text/x-python",
   "name": "python",
   "nbconvert_exporter": "python",
   "pygments_lexer": "ipython3",
   "version": "3.8.10"
  }
 },
 "nbformat": 4,
 "nbformat_minor": 5
}
